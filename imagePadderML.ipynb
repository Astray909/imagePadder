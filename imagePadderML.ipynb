{
 "cells": [
  {
   "cell_type": "code",
   "execution_count": 1,
   "metadata": {},
   "outputs": [],
   "source": [
    "import torch\n",
    "from pconv_cr.model import PConvUNet  # Importing a pre-trained Partial Convolution GAN (PConv)\n",
    "import torchvision.transforms as transforms\n",
    "from PIL import Image\n",
    "import matplotlib.pyplot as plt\n",
    "import requests\n",
    "from io import BytesIO"
   ]
  },
  {
   "cell_type": "code",
   "execution_count": null,
   "metadata": {},
   "outputs": [],
   "source": [
    "device = torch.device('cuda' if torch.cuda.is_available() else 'cpu')\n",
    "print(f'Using device: {device}')"
   ]
  },
  {
   "cell_type": "code",
   "execution_count": null,
   "metadata": {},
   "outputs": [],
   "source": [
    "# Load the pre-trained PConv-UNet model\n",
    "model = PConvUNet().to(device)\n",
    "checkpoint = torch.load(\"pconv_unet_checkpoint.pth\")  # Replace with path to actual weights\n",
    "model.load_state_dict(checkpoint['state_dict'])\n",
    "model.eval()  # Set the model to evaluation mode"
   ]
  },
  {
   "cell_type": "code",
   "execution_count": 4,
   "metadata": {},
   "outputs": [],
   "source": [
    "# Load and preprocess an image\n",
    "def load_image(image_path, size=256):\n",
    "    '''\n",
    "    Loads and preprocesses an image.\n",
    "    '''\n",
    "    img = Image.open(image_path).convert('RGB')\n",
    "    transform = transforms.Compose([\n",
    "        transforms.Resize((size, size)),\n",
    "        transforms.ToTensor(),\n",
    "        transforms.Normalize(mean=[0.485, 0.456, 0.406], std=[0.229, 0.224, 0.225])\n",
    "    ])\n",
    "    img_tensor = transform(img).unsqueeze(0).to(device)  # Add batch dimension and move to device\n",
    "    return img_tensor"
   ]
  },
  {
   "cell_type": "code",
   "execution_count": 5,
   "metadata": {},
   "outputs": [],
   "source": [
    "# Create a mask to define the missing regions (e.g., borders)\n",
    "def create_border_mask(image_tensor, border_width=50):\n",
    "    '''\n",
    "    Creates a binary mask where the borders are set to 0 (indicating missing parts) \n",
    "    and the rest of the image is 1.\n",
    "    '''\n",
    "    _, _, h, w = image_tensor.shape\n",
    "    mask = torch.ones_like(image_tensor).to(device)\n",
    "    mask[:, :, :border_width, :] = 0  # Top border\n",
    "    mask[:, :, -border_width:, :] = 0  # Bottom border\n",
    "    mask[:, :, :, :border_width] = 0  # Left border\n",
    "    mask[:, :, :, -border_width:] = 0  # Right border\n",
    "    return mask"
   ]
  },
  {
   "cell_type": "code",
   "execution_count": 6,
   "metadata": {},
   "outputs": [],
   "source": [
    "# Example image loading\n",
    "image_url = 'https://example.com/image.jpg'  # Replace with local path or URL of an image\n",
    "response = requests.get(image_url)\n",
    "img = Image.open(BytesIO(response.content))\n",
    "img.show()"
   ]
  },
  {
   "cell_type": "code",
   "execution_count": null,
   "metadata": {},
   "outputs": [],
   "source": [
    "# Preprocess the image for model input\n",
    "input_image = load_image(BytesIO(response.content))\n",
    "\n",
    "# Create a mask for the missing border regions\n",
    "border_mask = create_border_mask(input_image)\n",
    "\n",
    "# Generate border using the GAN model\n",
    "with torch.no_grad():\n",
    "    output, _ = model(input_image, border_mask)  # PConv-UNet takes the image and the mask as input"
   ]
  },
  {
   "cell_type": "code",
   "execution_count": null,
   "metadata": {},
   "outputs": [],
   "source": [
    "# Postprocess the output and convert it back to an image\n",
    "def postprocess_and_show(output_tensor):\n",
    "    '''\n",
    "    Post-process the output tensor and display the image.\n",
    "    '''\n",
    "    unloader = transforms.ToPILImage()\n",
    "    image = output_tensor.cpu().clone()  # Clone the tensor to avoid modifying the original\n",
    "    image = image.squeeze(0)  # Remove the batch dimension\n",
    "    image = unloader(image)\n",
    "    plt.imshow(image)\n",
    "    plt.axis('off')\n",
    "    plt.show()"
   ]
  },
  {
   "cell_type": "code",
   "execution_count": null,
   "metadata": {},
   "outputs": [],
   "source": [
    "# Show the output image\n",
    "postprocess_and_show(output)"
   ]
  }
 ],
 "metadata": {
  "kernelspec": {
   "display_name": "SAMui_v2",
   "language": "python",
   "name": "python3"
  },
  "language_info": {
   "codemirror_mode": {
    "name": "ipython",
    "version": 3
   },
   "file_extension": ".py",
   "mimetype": "text/x-python",
   "name": "python",
   "nbconvert_exporter": "python",
   "pygments_lexer": "ipython3",
   "version": "3.12.5"
  }
 },
 "nbformat": 4,
 "nbformat_minor": 2
}
