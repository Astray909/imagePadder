{
 "cells": [
  {
   "cell_type": "code",
   "execution_count": 57,
   "metadata": {},
   "outputs": [],
   "source": [
    "import torch\n",
    "import cv2\n",
    "import numpy as np"
   ]
  },
  {
   "cell_type": "code",
   "execution_count": 58,
   "metadata": {},
   "outputs": [],
   "source": [
    "device = torch.device(\"cuda\" if torch.cuda.is_available() else \"cpu\")"
   ]
  },
  {
   "cell_type": "code",
   "execution_count": 59,
   "metadata": {},
   "outputs": [],
   "source": [
    "def create_gradient_mask(height, width, padding_vertical, padding_horizontal):\n",
    "    mask = np.ones((height, width), dtype=np.float32)\n",
    "    \n",
    "    if padding_vertical > 0:\n",
    "        for i in range(padding_vertical):\n",
    "            grad_value = (i / padding_vertical) ** 2\n",
    "            mask[i, :] = grad_value\n",
    "            mask[height - 1 - i, :] = grad_value\n",
    "\n",
    "    if padding_horizontal > 0:\n",
    "        for i in range(padding_horizontal):\n",
    "            grad_value = (i / padding_horizontal) ** 2\n",
    "            mask[:, i] = grad_value\n",
    "            mask[:, width - 1 - i] = grad_value\n",
    "\n",
    "    return mask\n",
    "\n",
    "def add_blurred_padding(image_path, blur_strength=25, sigma=0):\n",
    "    img = cv2.imread(image_path)\n",
    "\n",
    "    height, width, channels = img.shape\n",
    "\n",
    "    if height > width:\n",
    "        padding_vertical = 0\n",
    "        padding_horizontal = (height - width) // 2\n",
    "    else:\n",
    "        padding_vertical = (width - height) // 2\n",
    "        padding_horizontal = 0\n",
    "\n",
    "    padded_img = cv2.copyMakeBorder(\n",
    "        img, \n",
    "        padding_vertical, padding_vertical, padding_horizontal, padding_horizontal, \n",
    "        borderType=cv2.BORDER_REFLECT\n",
    "    )\n",
    "\n",
    "    blurred_img = cv2.GaussianBlur(padded_img, (blur_strength, blur_strength), sigma)\n",
    "\n",
    "    mask = create_gradient_mask(padded_img.shape[0], padded_img.shape[1], padding_vertical, padding_horizontal)\n",
    "\n",
    "    mask_3d = np.repeat(mask[:, :, np.newaxis], 3, axis=2)\n",
    "\n",
    "    blended_img = (mask_3d * padded_img + (1 - mask_3d) * blurred_img).astype(np.uint8)\n",
    "\n",
    "    return blended_img\n",
    "\n",
    "\n",
    "def show_image(image):\n",
    "    img_rgb = cv2.cvtColor(image, cv2.COLOR_BGR2RGB)\n",
    "    \n",
    "    cv2.imshow(\"Padded Image\", img_rgb)\n",
    "    cv2.waitKey(0)\n",
    "    cv2.destroyAllWindows()"
   ]
  },
  {
   "cell_type": "code",
   "execution_count": 60,
   "metadata": {},
   "outputs": [],
   "source": [
    "image_path = \"Slag & Shore.jpg\"\n",
    "padded_image = add_blurred_padding(image_path, 25, 0)\n",
    "cv2.imwrite(\"padded_output.jpg\", padded_image)\n",
    "show_image(padded_image)"
   ]
  }
 ],
 "metadata": {
  "kernelspec": {
   "display_name": "SAMui_v2",
   "language": "python",
   "name": "python3"
  },
  "language_info": {
   "codemirror_mode": {
    "name": "ipython",
    "version": 3
   },
   "file_extension": ".py",
   "mimetype": "text/x-python",
   "name": "python",
   "nbconvert_exporter": "python",
   "pygments_lexer": "ipython3",
   "version": "3.12.5"
  }
 },
 "nbformat": 4,
 "nbformat_minor": 2
}
